{
 "cells": [
  {
   "cell_type": "code",
   "execution_count": null,
   "metadata": {},
   "outputs": [],
   "source": [
    "import os\n",
    "import gc\n",
    "import sys\n",
    "import numpy as np\n",
    "from glob import glob\n",
    "import xarray as xr\n",
    "\n",
    "from subprocess import run, PIPE\n",
    "\n",
    "from multiprocessing import Pool, cpu_count\n",
    "from functools import partial"
   ]
  },
  {
   "cell_type": "code",
   "execution_count": null,
   "metadata": {},
   "outputs": [],
   "source": [
    "# Config\n",
    "site = 'CLN'\n",
    "lat, lon, elev = 40.5763, -111.6383, 2945\n",
    "\n",
    "# Fixed to the length of ERA5 data cached locally\n",
    "# Shorted from 1979 to start date of dataset as needed\n",
    "start, end = 1998, 2019"
   ]
  },
  {
   "cell_type": "code",
   "execution_count": null,
   "metadata": {},
   "outputs": [],
   "source": [
    "isodir = '/uufs/chpc.utah.edu/common/home/steenburgh-group10/mewessler/era5/iso/'\n",
    "sfcdir = '/uufs/chpc.utah.edu/common/home/steenburgh-group10/mewessler/era5/sfc/'\n",
    "profdir = '/uufs/chpc.utah.edu/common/home/steenburgh-group10/mewessler/era5/profiles/'"
   ]
  },
  {
   "cell_type": "code",
   "execution_count": null,
   "metadata": {},
   "outputs": [],
   "source": [
    "isokeys = ['q', 't', 'u', 'v', 'vo', 'w', 'z', 'r']\n",
    "sfckeys = ['100u', '100v', '10u', '10v', '2d', '2t', 'blh', 'cape', 'msl', 'sp']\n",
    "keys = np.append(isokeys, sfckeys)"
   ]
  },
  {
   "cell_type": "code",
   "execution_count": null,
   "metadata": {},
   "outputs": [],
   "source": [
    "yyyy = 2000\n",
    "mm = 1\n",
    "\n",
    "flist_iso = glob(isodir + '/%04d%02d/*'%(yyyy, mm))\n",
    "flist = [f for f in flist_iso if f.split('.')[-5].split('_')[-1] in isokeys]\n",
    "\n",
    "flist_sfc = glob(sfcdir + '/%04d%02d/*'%(yyyy, mm))\n",
    "flist.extend([f for f in flist_sfc if f.split('.')[-5].split('_')[-1] in sfckeys])\n",
    "\n",
    "data_raw = xr.open_mfdataset(flist)\n",
    "data_raw"
   ]
  },
  {
   "cell_type": "code",
   "execution_count": null,
   "metadata": {},
   "outputs": [],
   "source": [
    "lats, lons = data_raw.latitude, data_raw.longitude - 360\n",
    "lats, lons = np.meshgrid(lats, lons)\n",
    "\n",
    "a = abs(lats - lat) + abs(lons - lon)\n",
    "yi, xi = np.unravel_index(a.argmin(), a.shape)\n",
    "\n",
    "data = data_raw.isel(longitude=yi, latitude=xi)\n",
    "data = data.rename({k:k.replace('VAR_', '') for k in data.keys()})\n",
    "data = data[[k.upper() for k in keys]]\n",
    "\n",
    "print('%f, %f'%(data.latitude.values, data.longitude.values-360))"
   ]
  },
  {
   "cell_type": "code",
   "execution_count": null,
   "metadata": {},
   "outputs": [],
   "source": [
    "data"
   ]
  },
  {
   "cell_type": "code",
   "execution_count": null,
   "metadata": {},
   "outputs": [],
   "source": []
  }
 ],
 "metadata": {
  "kernelspec": {
   "display_name": "Python 3",
   "language": "python",
   "name": "python3"
  },
  "language_info": {
   "codemirror_mode": {
    "name": "ipython",
    "version": 3
   },
   "file_extension": ".py",
   "mimetype": "text/x-python",
   "name": "python",
   "nbconvert_exporter": "python",
   "pygments_lexer": "ipython3",
   "version": "3.6.5"
  }
 },
 "nbformat": 4,
 "nbformat_minor": 2
}
