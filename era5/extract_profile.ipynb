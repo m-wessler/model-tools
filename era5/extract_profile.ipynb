{
 "cells": [
  {
   "cell_type": "code",
   "execution_count": 1,
   "metadata": {},
   "outputs": [],
   "source": [
    "import os\n",
    "import gc\n",
    "import sys\n",
    "import numpy as np\n",
    "from glob import glob\n",
    "import xarray as xr\n",
    "\n",
    "from subprocess import run, PIPE\n",
    "\n",
    "from multiprocessing import Pool, cpu_count\n",
    "from functools import partial"
   ]
  },
  {
   "cell_type": "code",
   "execution_count": 2,
   "metadata": {},
   "outputs": [],
   "source": [
    "# Config\n",
    "site = 'CLN'\n",
    "lat, lon, elev = 40.5763, -111.6383, 2945\n",
    "\n",
    "# Fixed to the length of ERA5 data cached locally\n",
    "# Shorted from 1979 to start date of dataset as needed\n",
    "start, end = 1998, 2019"
   ]
  },
  {
   "cell_type": "code",
   "execution_count": 4,
   "metadata": {},
   "outputs": [],
   "source": [
    "isodir = '/uufs/chpc.utah.edu/common/home/steenburgh-group10/mewessler/era5/iso/'\n",
    "sfcdir = '/uufs/chpc.utah.edu/common/home/steenburgh-group10/mewessler/era5/sfc/'\n",
    "profdir = '/uufs/chpc.utah.edu/common/home/steenburgh-group10/mewessler/era5/profiles/'"
   ]
  },
  {
   "cell_type": "code",
   "execution_count": 5,
   "metadata": {},
   "outputs": [],
   "source": [
    "isokeys = ['q', 't', 'u', 'v', 'vo', 'w', 'z', 'r']\n",
    "sfckeys = ['100u', '100v', '10u', '10v', '2d', '2t', 'blh', 'cape', 'msl', 'sp']"
   ]
  },
  {
   "cell_type": "code",
   "execution_count": 17,
   "metadata": {},
   "outputs": [
    {
     "data": {
      "text/plain": [
       "<xarray.Dataset>\n",
       "Dimensions:    (latitude: 81, level: 23, longitude: 113, time: 744)\n",
       "Coordinates:\n",
       "  * time       (time) datetime64[ns] 2000-01-01 ... 2000-01-31T23:00:00\n",
       "  * latitude   (latitude) float64 50.0 49.75 49.5 49.25 ... 30.5 30.25 30.0\n",
       "  * level      (level) float64 200.0 225.0 250.0 300.0 ... 950.0 975.0 1e+03\n",
       "  * longitude  (longitude) float64 232.0 232.2 232.5 232.8 ... 259.5 259.8 260.0\n",
       "Data variables:\n",
       "    Q          (time, level, latitude, longitude) float32 dask.array<shape=(744, 23, 81, 113), chunksize=(24, 23, 81, 113)>\n",
       "    utc_date   (time) int32 dask.array<shape=(744,), chunksize=(24,)>\n",
       "    R          (time, level, latitude, longitude) float32 dask.array<shape=(744, 23, 81, 113), chunksize=(24, 23, 81, 113)>\n",
       "    V          (time, level, latitude, longitude) float32 dask.array<shape=(744, 23, 81, 113), chunksize=(24, 23, 81, 113)>\n",
       "    W          (time, level, latitude, longitude) float32 dask.array<shape=(744, 23, 81, 113), chunksize=(24, 23, 81, 113)>\n",
       "    VO         (time, level, latitude, longitude) float32 dask.array<shape=(744, 23, 81, 113), chunksize=(24, 23, 81, 113)>\n",
       "    Z          (time, level, latitude, longitude) float32 dask.array<shape=(744, 23, 81, 113), chunksize=(24, 23, 81, 113)>\n",
       "    T          (time, level, latitude, longitude) float32 dask.array<shape=(744, 23, 81, 113), chunksize=(24, 23, 81, 113)>\n",
       "    U          (time, level, latitude, longitude) float32 dask.array<shape=(744, 23, 81, 113), chunksize=(24, 23, 81, 113)>\n",
       "Attributes:\n",
       "    DATA_SOURCE:          ECMWF: https://cds.climate.copernicus.eu, Copernicu...\n",
       "    NETCDF_CONVERSION:    CISL RDA: Conversion from ECMWF GRIB 1 data to netC...\n",
       "    NETCDF_VERSION:       4.6.1\n",
       "    CONVERSION_PLATFORM:  Linux casper04 3.10.0-693.21.1.el7.x86_64 #1 SMP We...\n",
       "    CONVERSION_DATE:      Fri Jul 26 12:34:45 MDT 2019\n",
       "    Conventions:          CF-1.6\n",
       "    NETCDF_COMPRESSION:   NCO: Precision-preserving compression to netCDF4/HD...\n",
       "    history:              Fri Aug 23 05:51:47 2019: ncks --no_tmp_fl -d longi...\n",
       "    NCO:                  netCDF Operators version 4.7.5 (Homepage = http://n..."
      ]
     },
     "execution_count": 17,
     "metadata": {},
     "output_type": "execute_result"
    }
   ],
   "source": [
    "yyyy = 2000\n",
    "mm = 1\n",
    "\n",
    "flist_raw = glob(isodir + '/%04d%02d/*'%(yyyy, mm))\n",
    "flist = [f for f in flist_raw if f.split('.')[-5].split('_')[-1] in isokeys]\n",
    "\n",
    "data_raw = xr.open_mfdataset(flist)\n",
    "data_raw"
   ]
  },
  {
   "cell_type": "code",
   "execution_count": 97,
   "metadata": {},
   "outputs": [
    {
     "name": "stdout",
     "output_type": "stream",
     "text": [
      "40.500000, -111.750000\n"
     ]
    }
   ],
   "source": [
    "lats, lons = data_raw.latitude, data_raw.longitude - 360\n",
    "lats, lons = np.meshgrid(lats, lons)\n",
    "\n",
    "a = abs(lats - lat) + abs(lons - lon)\n",
    "yi, xi = np.unravel_index(a.argmin(), a.shape)\n",
    "\n",
    "data = data_raw.isel(longitude=yi, latitude=xi)\n",
    "print('%f, %f'%(data.latitude.values, data.longitude.values-360))"
   ]
  },
  {
   "cell_type": "code",
   "execution_count": null,
   "metadata": {},
   "outputs": [],
   "source": []
  }
 ],
 "metadata": {
  "kernelspec": {
   "display_name": "Python 3",
   "language": "python",
   "name": "python3"
  },
  "language_info": {
   "codemirror_mode": {
    "name": "ipython",
    "version": 3
   },
   "file_extension": ".py",
   "mimetype": "text/x-python",
   "name": "python",
   "nbconvert_exporter": "python",
   "pygments_lexer": "ipython3",
   "version": "3.6.5"
  }
 },
 "nbformat": 4,
 "nbformat_minor": 2
}
