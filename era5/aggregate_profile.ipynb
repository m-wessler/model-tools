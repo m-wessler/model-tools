{
 "cells": [
  {
   "cell_type": "code",
   "execution_count": null,
   "metadata": {},
   "outputs": [],
   "source": [
    "import numpy as np\n",
    "import xarray as xr\n",
    "import pandas as pd\n",
    "from glob import glob"
   ]
  },
  {
   "cell_type": "code",
   "execution_count": null,
   "metadata": {},
   "outputs": [],
   "source": [
    "profdir = '/uufs/chpc.utah.edu/common/home/u1070830/mewessler/era5/profiles/'\n",
    "\n",
    "lat, lon = 40.5, -111.75\n",
    "\n",
    "flist = glob(profdir + 'disagg/' '*%s*%s*.nc'%(lat, abs(lon)))\n",
    "\n",
    "iso, sfc = [], []\n",
    "for f in flist:\n",
    "    d = xr.open_dataset(f)\n",
    "    if 'level' in list(d.dims):\n",
    "        iso.append(d.to_dataframe().drop(columns=['latitude', 'longitude']\n",
    "                    ).reset_index().set_index(['time', 'level']).sort_index())\n",
    "    else:\n",
    "        sfc.append(d.to_dataframe().drop(columns=['latitude', 'longitude']))"
   ]
  },
  {
   "cell_type": "code",
   "execution_count": null,
   "metadata": {},
   "outputs": [],
   "source": [
    "isomerge = None\n",
    "\n",
    "for i in range(1, len(iso)):\n",
    "    print('Merging isobaric variable %d/%d'%(i, len(iso)-1))\n",
    "    \n",
    "    if isomerge is not None:\n",
    "        isomerge = isomerge.merge(iso[i], on=['time', 'level'])\n",
    "    else:\n",
    "        isomerge = iso[i-1].merge(iso[i], on=['time', 'level'])\n",
    "        \n",
    "isomerge = isomerge[~isomerge.index.duplicated()]\n",
    "isomerge[:10]"
   ]
  },
  {
   "cell_type": "code",
   "execution_count": null,
   "metadata": {},
   "outputs": [],
   "source": [
    "sfcmerge = None\n",
    "\n",
    "for i in range(1, len(sfc)):\n",
    "    print('Merging surface variable %d/%d'%(i, len(sfc)-1))\n",
    "    \n",
    "    if sfcmerge is not None:\n",
    "        sfcmerge = sfcmerge.merge(sfc[i], on=['time'])\n",
    "    else:\n",
    "        sfcmerge = sfc[i-1].merge(sfc[i], on=['time'])\n",
    "        \n",
    "sfcmerge = sfcmerge[~sfcmerge.index.duplicated()]\n",
    "\n",
    "sfcmerge = sfcmerge.rename(\n",
    "    columns={k:k[-1] + k.replace('VAR_', '')[:-1] + 'M' \n",
    "             for k in sfcmerge.keys() if 'VAR_' in k})\n",
    "\n",
    "sfcmerge[:10]"
   ]
  },
  {
   "cell_type": "code",
   "execution_count": null,
   "metadata": {},
   "outputs": [],
   "source": [
    "merge = xr.merge([isomerge.to_xarray(), sfcmerge.to_xarray()])\n",
    "merge"
   ]
  },
  {
   "cell_type": "code",
   "execution_count": null,
   "metadata": {},
   "outputs": [],
   "source": [
    "savestr = 'era5prof_%sN_%sW.nc'%(lat, abs(lon))\n",
    "print('Saving: %s'%savestr)"
   ]
  },
  {
   "cell_type": "code",
   "execution_count": null,
   "metadata": {},
   "outputs": [],
   "source": [
    "merge.to_netcdf(profdir + savestr)"
   ]
  },
  {
   "cell_type": "code",
   "execution_count": null,
   "metadata": {},
   "outputs": [],
   "source": []
  }
 ],
 "metadata": {
  "kernelspec": {
   "display_name": "Python 3",
   "language": "python",
   "name": "python3"
  },
  "language_info": {
   "codemirror_mode": {
    "name": "ipython",
    "version": 3
   },
   "file_extension": ".py",
   "mimetype": "text/x-python",
   "name": "python",
   "nbconvert_exporter": "python",
   "pygments_lexer": "ipython3",
   "version": "3.6.5"
  }
 },
 "nbformat": 4,
 "nbformat_minor": 2
}
