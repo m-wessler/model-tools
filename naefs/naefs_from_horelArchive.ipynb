{
 "cells": [
  {
   "cell_type": "code",
   "execution_count": null,
   "metadata": {},
   "outputs": [],
   "source": [
    "import os, sys\n",
    "import shlex\n",
    "import numpy as np\n",
    "import pandas as pd\n",
    "\n",
    "from glob import glob\n",
    "from subprocess import Popen, call, PIPE\n",
    "from datetime import datetime, timedelta\n",
    "\n",
    "from functools import partial\n",
    "from multiprocessing import get_context, Pool, cpu_count\n",
    "\n",
    "os.environ['OMP_NUM_THREADS'] = 1"
   ]
  },
  {
   "cell_type": "code",
   "execution_count": null,
   "metadata": {},
   "outputs": [],
   "source": [
    "archive_models = ['naefs']\n",
    "archive_gribs = ['naefs'] #'gfsds', 'namds', 'sref'\n",
    "archive_output = [] #'naefs', 'gfsds', 'namds', 'sref'\n",
    "\n",
    "archive_hours = {'naefs':[0, 6, 12, 18], 'sref':[3, 9, 15, 21],\n",
    "                 'gfsds':[0, 6, 12, 18], 'namds':[0, 6, 12, 18]}\n",
    "\n",
    "grib_ext = {'naefs':'grib2'}\n",
    "grib_format = {'naefs':'%%Y%%m%%d%%H*.%s'%grib_ext[model]}\n",
    "\n",
    "horel_archive = '/uufs/chpc.utah.edu/common/home/horel-group/archive/'\n",
    "local_archive = '/uufs/chpc.utah.edu/common/home/steenburgh-group10/mewessler/archive/'"
   ]
  },
  {
   "cell_type": "code",
   "execution_count": null,
   "metadata": {},
   "outputs": [],
   "source": [
    "# Later set up to run on 16th/1st of the month on cron!\n",
    "start = datetime.now() - timedelta(days=11)\n",
    "start = datetime(start.year, start.month, start.day, 0, 0)\n",
    "\n",
    "end = datetime.now() - timedelta(days=1)\n",
    "end = datetime(end.year, end.month, end.day, 0, 0)\n",
    "\n",
    "inits = pd.date_range(start, end, freq='6H')"
   ]
  },
  {
   "cell_type": "code",
   "execution_count": null,
   "metadata": {},
   "outputs": [],
   "source": [
    "def tar_archive(init, model):\n",
    "    \n",
    "    init_str = datetime.strftime(init, '%Y%m%d%H')\n",
    "    init_hour = init.hour\n",
    "    init_date_str = datetime.strftime(init, '%Y%m%d')\n",
    "\n",
    "    orig_dir = '%s%s/models/%s/'%(horel_archive, init_date_str, model)\n",
    "    dest_dir = '%s%s/models/%s/'%(local_archive, init_date_str, model)\n",
    "    os.makedirs(dest_dir, exist_ok=True)\n",
    "\n",
    "    if init_hour in archive_hours[model]:\n",
    "\n",
    "        if model in archive_gribs:\n",
    "\n",
    "            orig_files = orig_dir + '*%s*.%s'%(init_str, grib_ext[model])                        \n",
    "            dest_tarfile = dest_dir + '%s.%s.tar.gz'%(init_str, grib_ext[model])\n",
    "\n",
    "            if not os.path.isfile(dest_tarfile):\n",
    "                tar_cmd = 'tar -czvf %s --directory=%s/ %s'%(dest_tarfile, '/'.join(orig_files.split('/')[:-1]), orig_files.split('/')[-1])\n",
    "                #print(tar_cmd)\n",
    "                call(shlex.split(tar_cmd))\n",
    "                print('%s written'%dest_tarfile.split('/')[-1])\n",
    "                \n",
    "            else:\n",
    "                print('%s exists, skipping'%dest_tarfile.split('/')[-1])\n",
    "\n",
    "        if model in archive_output:\n",
    "\n",
    "            dest_dir_nest = dest_dir + '%s/'%init_str\n",
    "            os.makedirs(dest_dir_nest, exist_ok=True)\n",
    "\n",
    "            orig_files = orig_dir + '%s'%(init_str)\n",
    "            dest_tarfile = dest_dir_nest + '%s.output.tar.gz'%init_str\n",
    "\n",
    "            if not os.path.isfile(dest_tarfile):\n",
    "                \n",
    "                # It might be worth adding a ncks compression here for the netcdf files first...\n",
    "                tar_cmd = 'tar -czvf %s --directory=%s/ %s'%(dest_tarfile, '/'.join(orig_files.split('/')[:-1]), orig_files.split('/')[-1])\n",
    "                #print(tar_cmd)\n",
    "                call(shlex.split(tar_cmd))\n",
    "                print('%s written'%dest_tarfile.split('/')[-1])\n",
    "                \n",
    "            else:\n",
    "                print('%s exists, skipping'%dest_tarfile.split('/')[-1])"
   ]
  },
  {
   "cell_type": "code",
   "execution_count": null,
   "metadata": {},
   "outputs": [],
   "source": [
    "if __name__ == '__main__':\n",
    "    \n",
    "    for model in archive_models:\n",
    "        \n",
    "        with Pool(5) as p:    \n",
    "            p.map(tar_archive_mp, inits[:5], chunksize=1)\n",
    "            p.close()\n",
    "            p.join()"
   ]
  },
  {
   "cell_type": "code",
   "execution_count": null,
   "metadata": {},
   "outputs": [],
   "source": []
  }
 ],
 "metadata": {
  "kernelspec": {
   "display_name": "Python 3",
   "language": "python",
   "name": "python3"
  },
  "language_info": {
   "codemirror_mode": {
    "name": "ipython",
    "version": 3
   },
   "file_extension": ".py",
   "mimetype": "text/x-python",
   "name": "python",
   "nbconvert_exporter": "python",
   "pygments_lexer": "ipython3",
   "version": "3.8.3"
  }
 },
 "nbformat": 4,
 "nbformat_minor": 4
}
