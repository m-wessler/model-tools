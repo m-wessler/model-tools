{
 "cells": [
  {
   "cell_type": "code",
   "execution_count": null,
   "metadata": {},
   "outputs": [],
   "source": [
    "import os\n",
    "import shutil\n",
    "\n",
    "import pandas as pd\n",
    "import numpy as np\n",
    "\n",
    "from os import path\n",
    "from glob import glob\n",
    "from datetime import datetime"
   ]
  },
  {
   "cell_type": "code",
   "execution_count": null,
   "metadata": {},
   "outputs": [],
   "source": [
    "archive_dir = '/uufs/chpc.utah.edu/common/home/steenburgh-group10/mewessler/archive/'"
   ]
  },
  {
   "cell_type": "code",
   "execution_count": null,
   "metadata": {},
   "outputs": [],
   "source": [
    "dirs = sorted(glob(archive_dir + '*'))"
   ]
  },
  {
   "cell_type": "code",
   "execution_count": null,
   "metadata": {},
   "outputs": [],
   "source": [
    "date_range = pd.date_range(datetime(2019, 10, 1, 0), datetime(2020, 5, 31, 0))\n",
    "\n",
    "for date in date_range:\n",
    "    path = archive_dir + date.strftime('%Y%m%d')\n",
    "    os.makedirs(path, exist_ok=True)"
   ]
  },
  {
   "cell_type": "code",
   "execution_count": null,
   "metadata": {},
   "outputs": [],
   "source": [
    "verbose = False\n",
    "\n",
    "with open('./archive_assessment.csv', 'w') as wfp:\n",
    "\n",
    "    wfp.write('%s,%s,%s,%s,%s,%s,%s,%s\\n'%(\n",
    "        'model', 'date', 'init', 'model_grib', 'model_idx', \n",
    "        'model_subdirs', 'model_nc', 'model_other'))\n",
    "\n",
    "    for date_dir in dirs:\n",
    "\n",
    "        date = date_dir.split('/')[-1]\n",
    "        model_dirs = sorted(glob(date_dir + '/models/*'))\n",
    "\n",
    "        for model_dir in model_dirs:\n",
    "\n",
    "            model = model_dir.split('/')[-1]\n",
    "            model_grib = sorted(glob(model_dir + '/*.grib2'))\n",
    "            model_idx = sorted(glob(model_dir + '/*.idx'))\n",
    "            [os.remove(f) for f in model_idx]\n",
    "\n",
    "            model_subdirs = sorted([f for f in glob(model_dir + '/*') \n",
    "                            if ((f not in model_grib) & (f not in model_idx))])\n",
    "\n",
    "            subdirs = [sd.split('/')[-1] for sd in model_subdirs]\n",
    "\n",
    "            # Break this out to determine particular file counts for each init when needed\n",
    "            model_nc, model_other = [], []\n",
    "            for model_subdir in model_subdirs:\n",
    "\n",
    "                subdir = model_subdir.split('/')[-1]\n",
    "                model_nc = sorted(glob(model_subdir + '/*.nc'))\n",
    "                model_other = sorted([f for f in glob(model_subdir + '/*') if f not in model_nc])\n",
    "                \n",
    "            if verbose:\n",
    "                print(model_dir)\n",
    "                print('\\tn grib: {}\\n\\tn idx: {}\\n\\tn subdirs: {}\\n\\tsubdirs: {}\\n\\tn ncdf: {}\\n\\tn other: {}\\n'.format(\n",
    "                    len(model_grib), len(model_idx), len(model_subdirs), '; '.join(subdirs), len(model_nc), len(model_other)))\n",
    "\n",
    "            wfp.write('%s, %s, %s, %d, %d, %d, %d, %d\\n'%(\n",
    "                model, date, '; '.join(subdirs),\n",
    "                len(model_grib), len(model_idx), len(model_subdirs), len(model_nc), len(model_other)))"
   ]
  },
  {
   "cell_type": "code",
   "execution_count": null,
   "metadata": {},
   "outputs": [],
   "source": [
    "counts = pd.read_csv('./archive_assessment.csv').set_index(['date', 'model'])\n",
    "counts.head(10)"
   ]
  },
  {
   "cell_type": "code",
   "execution_count": null,
   "metadata": {},
   "outputs": [],
   "source": []
  }
 ],
 "metadata": {
  "kernelspec": {
   "display_name": "Python 3",
   "language": "python",
   "name": "python3"
  },
  "language_info": {
   "codemirror_mode": {
    "name": "ipython",
    "version": 3
   },
   "file_extension": ".py",
   "mimetype": "text/x-python",
   "name": "python",
   "nbconvert_exporter": "python",
   "pygments_lexer": "ipython3",
   "version": "3.8.3"
  }
 },
 "nbformat": 4,
 "nbformat_minor": 4
}
