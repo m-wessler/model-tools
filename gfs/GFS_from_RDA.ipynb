{
 "cells": [
  {
   "cell_type": "code",
   "execution_count": null,
   "metadata": {},
   "outputs": [],
   "source": [
    "# GFS: https://rda.ucar.edu/datasets/ds084.1/"
   ]
  },
  {
   "cell_type": "code",
   "execution_count": null,
   "metadata": {},
   "outputs": [],
   "source": [
    "import sys, os\n",
    "import requests\n",
    "import numpy as np\n",
    "import pandas as pd\n",
    "from datetime import datetime, timedelta"
   ]
  },
  {
   "cell_type": "code",
   "execution_count": null,
   "metadata": {},
   "outputs": [],
   "source": [
    "def check_file_status(filepath, filesize):\n",
    "    sys.stdout.write('\\r')\n",
    "    sys.stdout.flush()\n",
    "    size = int(os.stat(filepath).st_size)\n",
    "    percent_complete = (size/filesize)*100\n",
    "    sys.stdout.write('%.3f %s' % (percent_complete, '% Completed'))\n",
    "    sys.stdout.flush()"
   ]
  },
  {
   "cell_type": "code",
   "execution_count": null,
   "metadata": {},
   "outputs": [],
   "source": [
    "# Try to get password\n",
    "if len(sys.argv) < 4 and not 'RDAPSWD' in os.environ:\n",
    "    try:\n",
    "        import getpass\n",
    "        input = getpass.getpass\n",
    "    except:\n",
    "        try:\n",
    "            input = raw_input\n",
    "        except:\n",
    "            pass\n",
    "    pswd = input('Password: ')\n",
    "else:\n",
    "    try:\n",
    "        pswd = sys.argv[1]\n",
    "    except:\n",
    "        pswd = os.environ['RDAPSWD']"
   ]
  },
  {
   "cell_type": "code",
   "execution_count": null,
   "metadata": {},
   "outputs": [],
   "source": [
    "url = 'https://rda.ucar.edu/cgi-bin/login'\n",
    "\n",
    "values = {'email' : 'm.wessler@utah.edu', 'passwd' : pswd, 'action' : 'login'}\n",
    "\n",
    "# Authenticate\n",
    "ret = requests.post(url, data=values)\n",
    "if ret.status_code != 200:\n",
    "    print('Bad Authentication')\n",
    "    print(ret.text)\n",
    "    exit(1)\n",
    "    \n",
    "dspath = 'https://rda.ucar.edu/data/ds084.1/'"
   ]
  },
  {
   "cell_type": "code",
   "execution_count": null,
   "metadata": {},
   "outputs": [],
   "source": [
    "init_dates = pd.date_range(datetime(2015, 1, 15, 0, 0), \n",
    "              #datetime(2020, 5, 31, 0, 0), \n",
    "              datetime(2015, 1, 16, 0, 0), \n",
    "              freq='12H')\n",
    "\n",
    "forecast_hours = np.arange(0, 180+1, 3)\n",
    "\n",
    "filelist = []\n",
    "for init in init_dates:\n",
    "    \n",
    "        filelist.append([('{0:04d}/{0:04d}{1:02d}{2:02d}/' + \n",
    "            'gfs.0p25.{0:04d}{1:02d}{2:02d}{3:02d}.' + \n",
    "            'f{4:03d}.grib2').format(\n",
    "            init.year, init.month, init.day, init.hour, fhr)\n",
    "                    for fhr in forecast_hours])"
   ]
  },
  {
   "cell_type": "code",
   "execution_count": null,
   "metadata": {},
   "outputs": [],
   "source": [
    "for flist in filelist:\n",
    "    \n",
    "    for file in flist:\n",
    "\n",
    "        filename=dspath+file\n",
    "        file_base = os.path.basename(file)\n",
    "\n",
    "        print('Downloading',file_base)\n",
    "\n",
    "        req = requests.get(filename, cookies = ret.cookies, allow_redirects=True, stream=True)\n",
    "        filesize = int(req.headers['Content-length'])\n",
    "\n",
    "        with open(file_base, 'wb') as outfile:\n",
    "            chunk_size=1048576\n",
    "            for chunk in req.iter_content(chunk_size=chunk_size):\n",
    "                outfile.write(chunk)\n",
    "                if chunk_size < filesize:\n",
    "                    check_file_status(file_base, filesize)\n",
    "\n",
    "        check_file_status(file_base, filesize)\n",
    "        print()"
   ]
  }
 ],
 "metadata": {
  "kernelspec": {
   "display_name": "Python 3",
   "language": "python",
   "name": "python3"
  },
  "language_info": {
   "codemirror_mode": {
    "name": "ipython",
    "version": 3
   },
   "file_extension": ".py",
   "mimetype": "text/x-python",
   "name": "python",
   "nbconvert_exporter": "python",
   "pygments_lexer": "ipython3",
   "version": "3.8.3"
  }
 },
 "nbformat": 4,
 "nbformat_minor": 4
}
