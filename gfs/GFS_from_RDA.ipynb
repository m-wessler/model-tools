{
 "cells": [
  {
   "cell_type": "code",
   "execution_count": null,
   "metadata": {},
   "outputs": [],
   "source": [
    "# GFS: https://rda.ucar.edu/datasets/ds084.1/"
   ]
  },
  {
   "cell_type": "code",
   "execution_count": null,
   "metadata": {},
   "outputs": [],
   "source": [
    "import sys, os\n",
    "import shlex\n",
    "import requests\n",
    "import numpy as np\n",
    "import pandas as pd\n",
    "from subprocess import Popen, call, PIPE\n",
    "from datetime import datetime, timedelta\n",
    "from multiprocessing import Pool, get_context, cpu_count\n",
    "\n",
    "os.environ['OMP_NUM_THREADS'] = '1'\n",
    "\n",
    "nlon, xlon, nlat, xlat = -130, -100, 30, 50\n",
    "\n",
    "archive = '/uufs/chpc.utah.edu/common/home/steenburgh-group10/mewessler/archive/'\n",
    "temp = '/scratch/general/lustre/u1070830/gfs_temp/'\n",
    "\n",
    "wgrib2 = '/uufs/chpc.utah.edu/sys/installdir/wgrib2/2.0.8/wgrib2/wgrib2'"
   ]
  },
  {
   "cell_type": "code",
   "execution_count": 2,
   "metadata": {},
   "outputs": [],
   "source": [
    "def check_file_status(filepath, filesize):\n",
    "    \n",
    "    sys.stdout.write('\\r')\n",
    "    sys.stdout.flush()\n",
    "    size = int(os.stat(filepath).st_size)\n",
    "    percent_complete = (size/filesize)*100\n",
    "    sys.stdout.write('%.3f %s' % (percent_complete, '% Completed'))\n",
    "    sys.stdout.flush()\n",
    "    \n",
    "def download_file(flist):\n",
    "    \n",
    "    for file in flist:\n",
    "        filename = dspath + file\n",
    "        file_base = os.path.basename(file)\n",
    "        init_str = file_base.split('.')[2]\n",
    "        \n",
    "        temp_dir = '%s%s/'%(temp, init_str)\n",
    "        os.makedirs(temp_dir, exist_ok=True)\n",
    "        \n",
    "        subset_dir = '%s%s/models/gfs0p25/'%(archive, init_str[:-2])\n",
    "        os.makedirs(subset_dir, exist_ok=True)\n",
    "        subset_file = subset_dir + file_base\n",
    "        subset_file = subset_file.replace('.grib2', '.WE.grib2')\n",
    "        \n",
    "        if not os.path.isfile(subset_file):\n",
    "\n",
    "            temp_file = temp_dir + file_base\n",
    "            print('Downloading', file_base)\n",
    "\n",
    "            req = requests.get(filename, cookies=ret.cookies, allow_redirects=True, stream=True)\n",
    "            filesize = int(req.headers['Content-length'])\n",
    "            \n",
    "            if not os.path.isfile(temp_file):\n",
    "                with open(temp_file, 'wb') as outfile:\n",
    "                    chunk_size = 1048576\n",
    "                    for chunk in req.iter_content(chunk_size=chunk_size):\n",
    "                        outfile.write(chunk)\n",
    "            else:\n",
    "                print('%s found, skipping'%os.path.basename(temp_file))\n",
    "            \n",
    "            # Generate subset file using wgrib2\n",
    "            print('Subsetting %s'%os.path.basename(subset_file))\n",
    "            run_cmd = '%s %s -small_grib %d:%d %d:%d %s'%(\n",
    "                wgrib2, temp_file, nlon, xlon, nlat, xlat, subset_file)\n",
    "            \n",
    "            # print(run_cmd)\n",
    "            Pout = Popen(run_cmd, shell=True, stdout=PIPE, stderr=PIPE)\n",
    "            # print(Pout.stderr.read())\n",
    "            \n",
    "            os.remove(temp_file)\n",
    "\n",
    "        else:\n",
    "            print('%s subset found, skipping'%os.path.basename(subset_file))\n",
    "    \n",
    "    try:\n",
    "        os.rmdir(temp_dir)\n",
    "    except:\n",
    "        pass\n",
    "\n",
    "    return None"
   ]
  },
  {
   "cell_type": "code",
   "execution_count": null,
   "metadata": {},
   "outputs": [],
   "source": [
    "# Try to get password\n",
    "if len(sys.argv) < 4 and not 'RDAPSWD' in os.environ:\n",
    "    try:\n",
    "        import getpass\n",
    "        input = getpass.getpass\n",
    "    except:\n",
    "        try:\n",
    "            input = raw_input\n",
    "        except:\n",
    "            pass\n",
    "    pswd = input('Password: ')\n",
    "else:\n",
    "    try:\n",
    "        pswd = sys.argv[1]\n",
    "    except:\n",
    "        pswd = os.environ['RDAPSWD']"
   ]
  },
  {
   "cell_type": "code",
   "execution_count": null,
   "metadata": {},
   "outputs": [],
   "source": [
    "url = 'https://rda.ucar.edu/cgi-bin/login'\n",
    "\n",
    "values = {'email' : 'm.wessler@utah.edu', 'passwd' : pswd, 'action' : 'login'}\n",
    "\n",
    "# Authenticate\n",
    "ret = requests.post(url, data=values)\n",
    "if ret.status_code != 200:\n",
    "    print('Bad Authentication')\n",
    "    print(ret.text)\n",
    "    exit(1)\n",
    "    \n",
    "dspath = 'https://rda.ucar.edu/data/ds084.1/'"
   ]
  },
  {
   "cell_type": "code",
   "execution_count": null,
   "metadata": {},
   "outputs": [],
   "source": [
    "init_dates = pd.date_range(datetime(2015, 1, 15, 0, 0), \n",
    "              #datetime(2020, 5, 31, 0, 0), \n",
    "              datetime(2015, 1, 16, 0, 0), \n",
    "              freq='12H')\n",
    "\n",
    "forecast_hours = np.arange(0, 36+1, 3)\n",
    "\n",
    "filelist = []\n",
    "for init in init_dates:\n",
    "    \n",
    "        filelist.append([('{0:04d}/{0:04d}{1:02d}{2:02d}/' + \n",
    "            'gfs.0p25.{0:04d}{1:02d}{2:02d}{3:02d}.' + \n",
    "            'f{4:03d}.grib2').format(\n",
    "            init.year, init.month, init.day, init.hour, fhr)\n",
    "                    for fhr in forecast_hours])"
   ]
  },
  {
   "cell_type": "code",
   "execution_count": null,
   "metadata": {},
   "outputs": [],
   "source": [
    "workers = int(cpu_count()/2)\n",
    "print('Downloading via %d processes'%workers)\n",
    "\n",
    "with get_context('fork').Pool(workers) as p:\n",
    "    p.map(download_file, filelist, chunksize=1)\n",
    "    p.close()\n",
    "    p.join()"
   ]
  }
 ],
 "metadata": {
  "kernelspec": {
   "display_name": "Python 3",
   "language": "python",
   "name": "python3"
  },
  "language_info": {
   "codemirror_mode": {
    "name": "ipython",
    "version": 3
   },
   "file_extension": ".py",
   "mimetype": "text/x-python",
   "name": "python",
   "nbconvert_exporter": "python",
   "pygments_lexer": "ipython3",
   "version": "3.8.3"
  }
 },
 "nbformat": 4,
 "nbformat_minor": 4
}
