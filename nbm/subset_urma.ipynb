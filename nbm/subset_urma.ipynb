{
 "cells": [
  {
   "cell_type": "code",
   "execution_count": 1,
   "metadata": {},
   "outputs": [],
   "source": [
    "import os, sys\n",
    "import numpy as np\n",
    "from glob import glob\n",
    "from multiprocessing import get_context"
   ]
  },
  {
   "cell_type": "code",
   "execution_count": 2,
   "metadata": {},
   "outputs": [],
   "source": [
    "tmp = '/scratch/general/lustre/u1070830/urma/'"
   ]
  },
  {
   "cell_type": "code",
   "execution_count": 3,
   "metadata": {},
   "outputs": [],
   "source": [
    "def subset_grib_spatial(full_file):\n",
    "    \n",
    "    subset_file = full_file.replace('grb2', 'WR.grib2')\n",
    "        \n",
    "    # Generate subset file using wgrib2\n",
    "    nlon, xlon, nlat, xlat = -130, -100, 30, 50\n",
    "    \n",
    "    wgrib2 = '/uufs/chpc.utah.edu/sys/installdir/wgrib2/2.0.8/wgrib2/wgrib2'\n",
    "    \n",
    "    run_cmd = '%s %s -small_grib %d:%d %d:%d %s > ./tmp.txt'%(\n",
    "        wgrib2, full_file, nlon, xlon, nlat, xlat, subset_file)\n",
    "    \n",
    "    #print(run_cmd)\n",
    "    os.system(run_cmd)"
   ]
  },
  {
   "cell_type": "code",
   "execution_count": 4,
   "metadata": {},
   "outputs": [],
   "source": [
    "flist = glob(tmp + 'urma*.grb2')"
   ]
  },
  {
   "cell_type": "code",
   "execution_count": 5,
   "metadata": {},
   "outputs": [],
   "source": [
    "with get_context('fork').Pool(32) as p:\n",
    "    p.map(subset_grib_spatial, flist, chunksize=1)\n",
    "    p.close()\n",
    "    p.join()"
   ]
  },
  {
   "cell_type": "code",
   "execution_count": null,
   "metadata": {},
   "outputs": [],
   "source": []
  }
 ],
 "metadata": {
  "kernelspec": {
   "display_name": "Python 3",
   "language": "python",
   "name": "python3"
  },
  "language_info": {
   "codemirror_mode": {
    "name": "ipython",
    "version": 3
   },
   "file_extension": ".py",
   "mimetype": "text/x-python",
   "name": "python",
   "nbconvert_exporter": "python",
   "pygments_lexer": "ipython3",
   "version": "3.8.3"
  }
 },
 "nbformat": 4,
 "nbformat_minor": 4
}
